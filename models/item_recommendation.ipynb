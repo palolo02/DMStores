{
 "cells": [
  {
   "cell_type": "code",
   "execution_count": 4,
   "metadata": {},
   "outputs": [],
   "source": [
    "import psycopg2\n",
    "import pandas as pd\n",
    "from sqlalchemy import create_engine\n",
    "import json\n",
    "from sklearn.metrics.pairwise import  cosine_similarity\n",
    "from scipy import sparse\n",
    "from surprise import Reader, Dataset, SVD\n",
    "from surprise.model_selection import cross_validate\n",
    "from random import seed"
   ]
  },
  {
   "cell_type": "code",
   "execution_count": 40,
   "metadata": {},
   "outputs": [
    {
     "name": "stdout",
     "output_type": "stream",
     "text": [
      "Reading config file\n",
      "   rating_id  customer_id  product_id  rating  rating_dt\n",
      "0       9972         1684          40       5 2020-02-18\n",
      "1       9973         1684          45       5 2020-02-12\n",
      "2       9974         1684          49       5 2020-01-22\n",
      "3       9975         1684          59       5 2020-01-29\n",
      "4       9976         1684          60       2 2020-02-02\n",
      "   product_id     product_name product_category_name\n",
      "0          63         Playfoam          Art & Crafts\n",
      "1          62  Playdoh Toolkit          Art & Crafts\n",
      "2          61  Playdoh Playset          Art & Crafts\n",
      "3          54       Magic Sand          Art & Crafts\n",
      "4          52  Kids Makeup Kit          Art & Crafts\n"
     ]
    }
   ],
   "source": [
    "# Create an engine instance\n",
    "with open(\"../dags/ops/config/config.json\", \"r\") as config:\n",
    "    print('Reading config file')\n",
    "    configuration = json.loads(config.read())\n",
    "alchemyEngine = create_engine(f'postgresql+psycopg2://{configuration[\"db_connection\"][\"user\"]}:{configuration[\"db_connection\"][\"password\"]}@{configuration[\"db_connection\"][\"host\"]}:{configuration[\"db_connection\"][\"port\"]}/{configuration[\"db_connection\"][\"database\"]}',\n",
    "                                 pool_recycle=3600)\n",
    "\n",
    "dbConnection = alchemyEngine.connect()\n",
    "# Select all the products that have not been rated by the user. Example for customer_id = 1684\n",
    "df = pd.read_sql('select * from ratings', dbConnection)\n",
    "products = pd.read_sql(f'''select p.product_id, p.product_name, pc.product_category_name \n",
    "from (\n",
    "\tselect r.product_id, r.rating \n",
    "\tfrom ratings r\n",
    "\twhere customer_id = {1684}\n",
    "\t) A\n",
    "\tright outer join product p \n",
    "\t\ton A.product_id = p.product_id\n",
    "\tleft join product_category pc \n",
    "\t\ton pc.product_category_id = p.product_category_id \n",
    "where A.product_id is null''', dbConnection)\n",
    "print(df.head())\n",
    "print(products.head())\n",
    "dbConnection.close()"
   ]
  },
  {
   "cell_type": "code",
   "execution_count": 8,
   "metadata": {},
   "outputs": [
    {
     "name": "stdout",
     "output_type": "stream",
     "text": [
      "   customer_id  product_id  rating\n",
      "0         1684          40       5\n",
      "1         1684          45       5\n",
      "2         1684          49       5\n",
      "3         1684          59       5\n",
      "4         1684          60       2\n"
     ]
    }
   ],
   "source": [
    "# Get relevant fields\n",
    "df = df.loc[:,[\"customer_id\",\"product_id\",\"rating\"]]\n",
    "print(df.head())"
   ]
  },
  {
   "cell_type": "code",
   "execution_count": 34,
   "metadata": {},
   "outputs": [
    {
     "name": "stdout",
     "output_type": "stream",
     "text": [
      "      customer_id  product_id  rating\n",
      "8440         3104          45       5\n",
      "1928         2011          49       2\n",
      "6568         2790          43       5\n",
      "4842         2500          66       3\n",
      "8425         3101          62       1\n",
      "      customer_id  product_id  rating\n",
      "6131         2716          56       4\n",
      "9605         3302          40       3\n",
      "2790         2154          49       2\n",
      "6175         2725          49       1\n",
      "7963         3023          56       5\n"
     ]
    }
   ],
   "source": [
    "# Split the data into train and test\n",
    "from sklearn.model_selection import train_test_split\n",
    "train, test = train_test_split(df, test_size = 0.3)\n",
    "print(train.head())\n",
    "print(test.head())"
   ]
  },
  {
   "cell_type": "code",
   "execution_count": 35,
   "metadata": {},
   "outputs": [
    {
     "name": "stdout",
     "output_type": "stream",
     "text": [
      "Evaluating RMSE, MAE of algorithm SVD on 5 split(s).\n",
      "\n",
      "                  Fold 1  Fold 2  Fold 3  Fold 4  Fold 5  Mean    Std     \n",
      "RMSE (testset)    1.4313  1.4426  1.4560  1.4385  1.4501  1.4437  0.0086  \n",
      "MAE (testset)     1.2186  1.2353  1.2544  1.2320  1.2392  1.2359  0.0115  \n",
      "Fit time          0.49    0.85    0.45    0.52    0.48    0.56    0.15    \n",
      "Test time         0.01    0.01    0.02    0.01    0.01    0.01    0.00    \n"
     ]
    },
    {
     "data": {
      "text/plain": [
       "{'test_rmse': array([1.43130652, 1.44256317, 1.45599916, 1.43850651, 1.4500861 ]),\n",
       " 'test_mae': array([1.21861631, 1.2352913 , 1.25435272, 1.23202897, 1.23916469]),\n",
       " 'fit_time': (0.493009090423584,\n",
       "  0.8485326766967773,\n",
       "  0.44692516326904297,\n",
       "  0.5203361511230469,\n",
       "  0.47887206077575684),\n",
       " 'test_time': (0.008405685424804688,\n",
       "  0.013129472732543945,\n",
       "  0.015207290649414062,\n",
       "  0.012772560119628906,\n",
       "  0.014789342880249023)}"
      ]
     },
     "execution_count": 35,
     "metadata": {},
     "output_type": "execute_result"
    }
   ],
   "source": [
    "# For Item based Collaborative Filter, \n",
    "# we can use Single Value Decomposition (SVD) \n",
    "# to predict the rating on an unseen item for a particular user.\n",
    "# We could try similarity between userr or items. However, those\n",
    "# models have disadvantages and are not scalable as SVD. \n",
    "# Therefore, we decide to use this one\n",
    "reader = Reader()\n",
    "data = Dataset.load_from_df(train, reader)\n",
    "svd = SVD()\n",
    "cross_validate(svd, data, measures=[\"RMSE\",\"MAE\"], cv=5, verbose=True)"
   ]
  },
  {
   "cell_type": "code",
   "execution_count": 36,
   "metadata": {},
   "outputs": [
    {
     "data": {
      "text/plain": [
       "<surprise.prediction_algorithms.matrix_factorization.SVD at 0x26625fab490>"
      ]
     },
     "execution_count": 36,
     "metadata": {},
     "output_type": "execute_result"
    }
   ],
   "source": [
    "# Fit the model for the trainset\n",
    "trainset = data.build_full_trainset()\n",
    "svd.fit(trainset)"
   ]
  },
  {
   "cell_type": "code",
   "execution_count": 37,
   "metadata": {},
   "outputs": [],
   "source": [
    "import pickle\n",
    "\n",
    "# Save the model\n",
    "with open('svd','wb') as file:\n",
    "    pickle.dump(svd,file)"
   ]
  },
  {
   "cell_type": "code",
   "execution_count": 42,
   "metadata": {},
   "outputs": [
    {
     "name": "stdout",
     "output_type": "stream",
     "text": [
      "model loaded\n",
      "user: 1          item: 70         r_ui = None   est = 3.33   {'was_impossible': False}\n",
      "user: 1          item: 69         r_ui = None   est = 2.95   {'was_impossible': False}\n",
      "user: 1          item: 68         r_ui = None   est = 2.97   {'was_impossible': False}\n",
      "user: 1          item: 67         r_ui = None   est = 3.02   {'was_impossible': False}\n",
      "user: 1          item: 66         r_ui = None   est = 2.95   {'was_impossible': False}\n",
      "user: 1          item: 65         r_ui = None   est = 3.08   {'was_impossible': False}\n",
      "user: 1          item: 64         r_ui = None   est = 3.02   {'was_impossible': False}\n",
      "user: 1          item: 63         r_ui = None   est = 3.02   {'was_impossible': False}\n",
      "user: 1          item: 62         r_ui = None   est = 3.00   {'was_impossible': False}\n",
      "user: 1          item: 61         r_ui = None   est = 3.02   {'was_impossible': False}\n"
     ]
    }
   ],
   "source": [
    "# ================== Prediction =====================\n",
    "# Load the model to make predictions\n",
    "with open('svd','rb') as file:\n",
    "    svd = pickle.load(file)\n",
    "    print('model loaded')\n",
    "\n",
    "# Step 1. Input data\n",
    "# data = {'customer_id':  [1,1,1,1,1,1,1,1,1,1],\n",
    "#         'product_id': [70,69,68,67,66,65,64,63,62,61]\n",
    "#         }\n",
    "# prediction = pd.DataFrame(data)\n",
    "\n",
    "# Test with the products for user 1684\n",
    "data = products.copy()\n",
    "data[\"customer_id\"] = 1684\n",
    "data.head()\n",
    "\n",
    "# Prediction on score\n",
    "for i, j in prediction.iterrows():\n",
    "    result = svd.predict(uid=j[\"customer_id\"],iid=j[\"product_id\"])\n",
    "    #if result.est >=3.5:\n",
    "    print(result)\n",
    "\n",
    "    "
   ]
  }
 ],
 "metadata": {
  "interpreter": {
   "hash": "2a3d422e1179ef59db0ee920e9fc1a3e31db2f78571fe6cee520e86dd6f6de45"
  },
  "kernelspec": {
   "display_name": "Python 3.9.7 64-bit ('uberRides': venv)",
   "language": "python",
   "name": "python3"
  },
  "language_info": {
   "codemirror_mode": {
    "name": "ipython",
    "version": 3
   },
   "file_extension": ".py",
   "mimetype": "text/x-python",
   "name": "python",
   "nbconvert_exporter": "python",
   "pygments_lexer": "ipython3",
   "version": "3.9.7"
  },
  "orig_nbformat": 4
 },
 "nbformat": 4,
 "nbformat_minor": 2
}
